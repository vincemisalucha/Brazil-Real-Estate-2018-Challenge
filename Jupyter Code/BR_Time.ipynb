{
 "cells": [
  {
   "cell_type": "code",
   "execution_count": 1,
   "metadata": {},
   "outputs": [],
   "source": [
    "import pandas as pd"
   ]
  },
  {
   "cell_type": "code",
   "execution_count": 2,
   "metadata": {},
   "outputs": [
    {
     "data": {
      "text/html": [
       "<div>\n",
       "<style scoped>\n",
       "    .dataframe tbody tr th:only-of-type {\n",
       "        vertical-align: middle;\n",
       "    }\n",
       "\n",
       "    .dataframe tbody tr th {\n",
       "        vertical-align: top;\n",
       "    }\n",
       "\n",
       "    .dataframe thead th {\n",
       "        text-align: right;\n",
       "    }\n",
       "</style>\n",
       "<table border=\"1\" class=\"dataframe\">\n",
       "  <thead>\n",
       "    <tr style=\"text-align: right;\">\n",
       "      <th></th>\n",
       "      <th>id</th>\n",
       "      <th>operation</th>\n",
       "      <th>property_type</th>\n",
       "      <th>place_name</th>\n",
       "      <th>state_name</th>\n",
       "      <th>lat</th>\n",
       "      <th>lon</th>\n",
       "      <th>surface_covered_in_m2</th>\n",
       "      <th>floor</th>\n",
       "      <th>rooms</th>\n",
       "      <th>price</th>\n",
       "    </tr>\n",
       "  </thead>\n",
       "  <tbody>\n",
       "    <tr>\n",
       "      <th>0</th>\n",
       "      <td>b609be682cecc8ecb24d7be5f8724619c8ef0a1d</td>\n",
       "      <td>sell</td>\n",
       "      <td>apartment</td>\n",
       "      <td>Salvador</td>\n",
       "      <td>Bahia</td>\n",
       "      <td>-12.992921</td>\n",
       "      <td>-38.492470</td>\n",
       "      <td>48</td>\n",
       "      <td>1</td>\n",
       "      <td>1</td>\n",
       "      <td>260000.0</td>\n",
       "    </tr>\n",
       "    <tr>\n",
       "      <th>1</th>\n",
       "      <td>b96d5a11f2181dd7ba31fa0520992eedb4c2d4ba</td>\n",
       "      <td>sell</td>\n",
       "      <td>apartment</td>\n",
       "      <td>Aquiraz</td>\n",
       "      <td>Ceará</td>\n",
       "      <td>-3.848142</td>\n",
       "      <td>-38.393154</td>\n",
       "      <td>82</td>\n",
       "      <td>1</td>\n",
       "      <td>4</td>\n",
       "      <td>548300.0</td>\n",
       "    </tr>\n",
       "    <tr>\n",
       "      <th>2</th>\n",
       "      <td>4bed6502f601bbda315f42d6ffec1adc7dc1a9eb</td>\n",
       "      <td>sell</td>\n",
       "      <td>apartment</td>\n",
       "      <td>Aquiraz</td>\n",
       "      <td>Ceará</td>\n",
       "      <td>-3.848142</td>\n",
       "      <td>-38.393154</td>\n",
       "      <td>65</td>\n",
       "      <td>2</td>\n",
       "      <td>2</td>\n",
       "      <td>480000.0</td>\n",
       "    </tr>\n",
       "    <tr>\n",
       "      <th>3</th>\n",
       "      <td>e7d7426adb1b971119565fae80f51cd163d18014</td>\n",
       "      <td>sell</td>\n",
       "      <td>apartment</td>\n",
       "      <td>Aquiraz</td>\n",
       "      <td>Ceará</td>\n",
       "      <td>-3.836658</td>\n",
       "      <td>-38.401691</td>\n",
       "      <td>68</td>\n",
       "      <td>2</td>\n",
       "      <td>2</td>\n",
       "      <td>450000.0</td>\n",
       "    </tr>\n",
       "    <tr>\n",
       "      <th>4</th>\n",
       "      <td>9e98f02fee25f8039d7900c76b89e215f95f07ef</td>\n",
       "      <td>sell</td>\n",
       "      <td>apartment</td>\n",
       "      <td>Aquiraz</td>\n",
       "      <td>Ceará</td>\n",
       "      <td>-3.838050</td>\n",
       "      <td>-38.398440</td>\n",
       "      <td>88</td>\n",
       "      <td>2</td>\n",
       "      <td>3</td>\n",
       "      <td>630000.0</td>\n",
       "    </tr>\n",
       "  </tbody>\n",
       "</table>\n",
       "</div>"
      ],
      "text/plain": [
       "                                         id operation property_type  \\\n",
       "0  b609be682cecc8ecb24d7be5f8724619c8ef0a1d      sell     apartment   \n",
       "1  b96d5a11f2181dd7ba31fa0520992eedb4c2d4ba      sell     apartment   \n",
       "2  4bed6502f601bbda315f42d6ffec1adc7dc1a9eb      sell     apartment   \n",
       "3  e7d7426adb1b971119565fae80f51cd163d18014      sell     apartment   \n",
       "4  9e98f02fee25f8039d7900c76b89e215f95f07ef      sell     apartment   \n",
       "\n",
       "  place_name state_name        lat        lon  surface_covered_in_m2  floor  \\\n",
       "0   Salvador      Bahia -12.992921 -38.492470                     48      1   \n",
       "1    Aquiraz      Ceará  -3.848142 -38.393154                     82      1   \n",
       "2    Aquiraz      Ceará  -3.848142 -38.393154                     65      2   \n",
       "3    Aquiraz      Ceará  -3.836658 -38.401691                     68      2   \n",
       "4    Aquiraz      Ceará  -3.838050 -38.398440                     88      2   \n",
       "\n",
       "   rooms     price  \n",
       "0      1  260000.0  \n",
       "1      4  548300.0  \n",
       "2      2  480000.0  \n",
       "3      2  450000.0  \n",
       "4      3  630000.0  "
      ]
     },
     "execution_count": 2,
     "metadata": {},
     "output_type": "execute_result"
    }
   ],
   "source": [
    "df = pd.read_csv(\"C:/Users/Vince Misalucha/Downloads/sell_coordinates/sell_1701.csv\")\n",
    "df.head()"
   ]
  },
  {
   "cell_type": "code",
   "execution_count": 3,
   "metadata": {},
   "outputs": [],
   "source": [
    "def annual_avg_price(total):\n",
    "    apt_yr = []\n",
    "    st_yr = []\n",
    "    hs_yr = []\n",
    "    \n",
    "    for i in range(12):\n",
    "        if(i < 9):\n",
    "            df = pd.read_csv(\"C:/Users/Vince Misalucha/Downloads/sell_coordinates/sell_170\" + str(i+1) + \".csv\")\n",
    "        else:\n",
    "            df = pd.read_csv(\"C:/Users/Vince Misalucha/Downloads/sell_coordinates/sell_17\" + str(i+1) + \".csv\")\n",
    "\n",
    "        df['price_per_sqm'] = df['price']/df['surface_covered_in_m2']\n",
    "        apt_yr.append(df.groupby('property_type')['price_per_sqm'].mean().round(2)['apartment'])\n",
    "        st_yr.append(df.groupby('property_type')['price_per_sqm'].mean().round(2)['store'])\n",
    "        hs_yr.append(df.groupby('property_type')['price_per_sqm'].mean().round(2)['house'])\n",
    "    \n",
    "    total.append(apt_yr)\n",
    "    total.append(st_yr)\n",
    "    total.append(hs_yr)\n",
    "     \n",
    "    # returns <apt, st, hs>\n",
    "    return total"
   ]
  },
  {
   "cell_type": "code",
   "execution_count": 4,
   "metadata": {},
   "outputs": [
    {
     "data": {
      "text/plain": [
       "[[9682.2,\n",
       "  8791.33,\n",
       "  10200.09,\n",
       "  11328.19,\n",
       "  11668.45,\n",
       "  11832.13,\n",
       "  11077.6,\n",
       "  11572.93,\n",
       "  11338.58,\n",
       "  11545.39,\n",
       "  11717.1,\n",
       "  11880.48],\n",
       " [12613.17,\n",
       "  13257.61,\n",
       "  11698.71,\n",
       "  15602.8,\n",
       "  15411.77,\n",
       "  16057.91,\n",
       "  15229.42,\n",
       "  16039.26,\n",
       "  15398.22,\n",
       "  15138.93,\n",
       "  15257.37,\n",
       "  15677.46],\n",
       " [5838.78,\n",
       "  5944.44,\n",
       "  6182.23,\n",
       "  6792.17,\n",
       "  7117.41,\n",
       "  7345.84,\n",
       "  7231.52,\n",
       "  7093.14,\n",
       "  6655.04,\n",
       "  6676.45,\n",
       "  6842.37,\n",
       "  6898.88]]"
      ]
     },
     "execution_count": 4,
     "metadata": {},
     "output_type": "execute_result"
    }
   ],
   "source": [
    "annual_avg_pricing = []\n",
    "\n",
    "annual_avg_pricing = annual_avg_price(annual_avg_pricing)\n",
    "annual_avg_pricing"
   ]
  },
  {
   "cell_type": "code",
   "execution_count": 5,
   "metadata": {},
   "outputs": [],
   "source": [
    "import matplotlib.pyplot as plt"
   ]
  },
  {
   "cell_type": "markdown",
   "metadata": {},
   "source": [
    "## 2017 Average Selling Price Fluctuation in Brazil "
   ]
  },
  {
   "cell_type": "code",
   "execution_count": 6,
   "metadata": {},
   "outputs": [
    {
     "data": {
      "image/png": "[encoded data removed]",
      "text/plain": [
       "<Figure size 432x288 with 1 Axes>"
      ]
     },
     "metadata": {
      "needs_background": "light"
     },
     "output_type": "display_data"
    }
   ],
   "source": [
    "#Apartment Price Fluctuation\n",
    "\n",
    "y = annual_avg_pricing[0]\n",
    "x = list(range(1,13))\n",
    "y_mean = [round(sum(y)/len(y),2)]*len(y)\n",
    "\n",
    "#Plotting\n",
    "fig, ax = plt.subplots()\n",
    "\n",
    "avg_price_line = ax.plot(x,y, label='Price', color = \"green\")\n",
    "mean_line = ax.plot(x,y_mean, label='Mean', linestyle='--')\n",
    "legend = ax.legend(loc='upper left')\n",
    "\n",
    "#Set Month Names\n",
    "\n",
    "months = ['Jan', 'Feb', 'Mar', 'Apr', 'May', 'Jun',\n",
    "        'Jul', 'Aug', 'Sep', 'Oct', 'Nov', 'Dec']\n",
    "\n",
    "plt.title(label=\"BR Apartments 2017\", loc=\"center\")\n",
    "plt.xticks(x)\n",
    "ax.set_xticklabels(months)\n",
    "plt.show()"
   ]
  },
  {
   "cell_type": "code",
   "execution_count": 7,
   "metadata": {},
   "outputs": [
    {
     "data": {
      "text/plain": [
       "11052.87"
      ]
     },
     "execution_count": 7,
     "metadata": {},
     "output_type": "execute_result"
    }
   ],
   "source": [
    "y_mean[0]"
   ]
  },
  {
   "cell_type": "code",
   "execution_count": 8,
   "metadata": {},
   "outputs": [
    {
     "data": {
      "image/png": "[encoded data removed]",
      "text/plain": [
       "<Figure size 432x288 with 1 Axes>"
      ]
     },
     "metadata": {
      "needs_background": "light"
     },
     "output_type": "display_data"
    }
   ],
   "source": [
    "#Store Price Fluctuation\n",
    "\n",
    "y = annual_avg_pricing[1]\n",
    "x = list(range(1,13))\n",
    "y_mean = [round(sum(y)/len(y),2)]*len(y)\n",
    "\n",
    "#Plotting\n",
    "fig, ax = plt.subplots()\n",
    "\n",
    "avg_price_line = ax.plot(x,y, label='Price', color = \"green\")\n",
    "mean_line = ax.plot(x,y_mean, label='Mean', linestyle='--')\n",
    "legend = ax.legend(loc='upper left')\n",
    "\n",
    "#Set Month Names\n",
    "\n",
    "months = ['Jan', 'Feb', 'Mar', 'Apr', 'May', 'Jun',\n",
    "        'Jul', 'Aug', 'Sep', 'Oct', 'Nov', 'Dec']\n",
    "\n",
    "plt.title(label=\"BR Stores 2017\", loc=\"center\")\n",
    "plt.xticks(x)\n",
    "ax.set_xticklabels(months)\n",
    "plt.show()"
   ]
  },
  {
   "cell_type": "code",
   "execution_count": 9,
   "metadata": {},
   "outputs": [
    {
     "data": {
      "image/png": "[encoded data removed]",
      "text/plain": [
       "<Figure size 432x288 with 1 Axes>"
      ]
     },
     "metadata": {
      "needs_background": "light"
     },
     "output_type": "display_data"
    }
   ],
   "source": [
    "#Housing Price Fluctuation\n",
    "\n",
    "y = annual_avg_pricing[2]\n",
    "x = list(range(1,13))\n",
    "y_mean = [round(sum(y)/len(y),2)]*len(y)\n",
    "\n",
    "#Plotting\n",
    "fig, ax = plt.subplots()\n",
    "\n",
    "avg_price_line = ax.plot(x,y, label='Price', color = \"green\")\n",
    "mean_line = ax.plot(x,y_mean, label='Mean', linestyle='--')\n",
    "legend = ax.legend(loc='upper left')\n",
    "\n",
    "#Set Month Names\n",
    "\n",
    "months = ['Jan', 'Feb', 'Mar', 'Apr', 'May', 'Jun',\n",
    "        'Jul', 'Aug', 'Sep', 'Oct', 'Nov', 'Dec']\n",
    "\n",
    "plt.title(label=\"BR Houses 2017\", loc=\"center\")\n",
    "plt.xticks(x)\n",
    "ax.set_xticklabels(months)\n",
    "plt.show()"
   ]
  },
  {
   "cell_type": "code",
   "execution_count": 10,
   "metadata": {},
   "outputs": [
    {
     "data": {
      "text/plain": [
       "6718.19"
      ]
     },
     "execution_count": 10,
     "metadata": {},
     "output_type": "execute_result"
    }
   ],
   "source": [
    "y_mean[0]"
   ]
  },
  {
   "cell_type": "markdown",
   "metadata": {},
   "source": [
    "## 2016 Average Selling Price Fluctuation"
   ]
  },
  {
   "cell_type": "code",
   "execution_count": 11,
   "metadata": {},
   "outputs": [],
   "source": [
    "def annual_avg_price_16(total):\n",
    "    apt_yr = []\n",
    "    st_yr = []\n",
    "    hs_yr = []\n",
    "    \n",
    "    for i in range(12):\n",
    "        if(i < 9):\n",
    "            df = pd.read_csv(\"C:/Users/Vince Misalucha/Downloads/sell_160\" + str(i+1) + \".csv\")\n",
    "        else:\n",
    "            df = pd.read_csv(\"C:/Users/Vince Misalucha/Downloads/sell_16\" + str(i+1) + \".csv\")\n",
    "        \n",
    "        df['price_per_sqm'] = df['price']/df['surface_covered_in_m2']\n",
    "        apt_yr.append(df.groupby('property_type')['price_per_sqm'].mean().round(2)['apartment'])\n",
    "        st_yr.append(df.groupby('property_type')['price_per_sqm'].mean().round(2)['store'])\n",
    "        hs_yr.append(df.groupby('property_type')['price_per_sqm'].mean().round(2)['house'])\n",
    "    \n",
    "    total.append(apt_yr)\n",
    "    total.append(st_yr)\n",
    "    total.append(hs_yr)\n",
    "     \n",
    "    # returns <apt, st, hs>\n",
    "    return total"
   ]
  },
  {
   "cell_type": "code",
   "execution_count": 12,
   "metadata": {},
   "outputs": [
    {
     "data": {
      "text/plain": [
       "[[4671.49,\n",
       "  4711.36,\n",
       "  5312.38,\n",
       "  5688.51,\n",
       "  6153.87,\n",
       "  6109.82,\n",
       "  7014.42,\n",
       "  7022.41,\n",
       "  6962.35,\n",
       "  7323.47,\n",
       "  6952.24,\n",
       "  9036.07],\n",
       " [6605.58,\n",
       "  6605.58,\n",
       "  6605.58,\n",
       "  6502.83,\n",
       "  6585.66,\n",
       "  8487.99,\n",
       "  9050.35,\n",
       "  9293.21,\n",
       "  9459.61,\n",
       "  9340.89,\n",
       "  9727.94,\n",
       "  10750.93],\n",
       " [5702.69,\n",
       "  7076.68,\n",
       "  6531.54,\n",
       "  7029.5,\n",
       "  6962.12,\n",
       "  4524.63,\n",
       "  5117.74,\n",
       "  5156.48,\n",
       "  5005.41,\n",
       "  5033.5,\n",
       "  5167.2,\n",
       "  5275.13]]"
      ]
     },
     "execution_count": 12,
     "metadata": {},
     "output_type": "execute_result"
    }
   ],
   "source": [
    "annual_avg_pricing_16 = []\n",
    "\n",
    "annual_avg_pricing_16 = annual_avg_price_16(annual_avg_pricing_16)\n",
    "annual_avg_pricing_16"
   ]
  },
  {
   "cell_type": "code",
   "execution_count": 13,
   "metadata": {},
   "outputs": [
    {
     "data": {
      "image/png": "[encoded data removed]",
      "text/plain": [
       "<Figure size 432x288 with 1 Axes>"
      ]
     },
     "metadata": {
      "needs_background": "light"
     },
     "output_type": "display_data"
    }
   ],
   "source": [
    "#Apartment Price Fluctuation 2016\n",
    "\n",
    "y = annual_avg_pricing_16[0]\n",
    "x = list(range(1,13))\n",
    "y_mean = [round(sum(y)/len(y),2)]*len(y)\n",
    "\n",
    "#Plotting\n",
    "fig, ax = plt.subplots()\n",
    "\n",
    "avg_price_line = ax.plot(x,y, label='Price', color = \"green\")\n",
    "mean_line = ax.plot(x,y_mean, label='Mean', linestyle='--')\n",
    "legend = ax.legend(loc='upper left')\n",
    "\n",
    "#Set Month Names\n",
    "\n",
    "months = ['Jan', 'Feb', 'Mar', 'Apr', 'May', 'Jun',\n",
    "        'Jul', 'Aug', 'Sep', 'Oct', 'Nov', 'Dec']\n",
    "\n",
    "plt.title(label=\"BR Apartments 2016\", loc=\"center\")\n",
    "plt.xticks(x)\n",
    "ax.set_xticklabels(months)\n",
    "plt.show()"
   ]
  },
  {
   "cell_type": "code",
   "execution_count": 14,
   "metadata": {},
   "outputs": [
    {
     "data": {
      "text/plain": [
       "6413.2"
      ]
     },
     "execution_count": 14,
     "metadata": {},
     "output_type": "execute_result"
    }
   ],
   "source": [
    "y_mean[0]"
   ]
  },
  {
   "cell_type": "code",
   "execution_count": 15,
   "metadata": {},
   "outputs": [
    {
     "data": {
      "image/png": "[encoded data removed]",
      "text/plain": [
       "<Figure size 432x288 with 1 Axes>"
      ]
     },
     "metadata": {
      "needs_background": "light"
     },
     "output_type": "display_data"
    }
   ],
   "source": [
    "#Stores Price Fluctuation 2016\n",
    "\n",
    "y = annual_avg_pricing_16[1]\n",
    "x = list(range(1,13))\n",
    "y_mean = [round(sum(y)/len(y),2)]*len(y)\n",
    "\n",
    "#Plotting\n",
    "fig, ax = plt.subplots()\n",
    "\n",
    "avg_price_line = ax.plot(x,y, label='Price', color = \"green\")\n",
    "mean_line = ax.plot(x,y_mean, label='Mean', linestyle='--')\n",
    "legend = ax.legend(loc='upper left')\n",
    "\n",
    "#Set Month Names\n",
    "\n",
    "months = ['Jan', 'Feb', 'Mar', 'Apr', 'May', 'Jun',\n",
    "        'Jul', 'Aug', 'Sep', 'Oct', 'Nov', 'Dec']\n",
    "\n",
    "plt.title(label=\"BR Stores 2016\", loc=\"center\")\n",
    "plt.xticks(x)\n",
    "ax.set_xticklabels(months)\n",
    "plt.show()"
   ]
  },
  {
   "cell_type": "code",
   "execution_count": 16,
   "metadata": {},
   "outputs": [
    {
     "data": {
      "image/png": "[encoded data removed]",
      "text/plain": [
       "<Figure size 432x288 with 1 Axes>"
      ]
     },
     "metadata": {
      "needs_background": "light"
     },
     "output_type": "display_data"
    }
   ],
   "source": [
    "#Housing Price Fluctuation 2016\n",
    "\n",
    "y = annual_avg_pricing_16[2]\n",
    "x = list(range(1,13))\n",
    "y_mean = [round(sum(y)/len(y),2)]*len(y)\n",
    "\n",
    "#Plotting\n",
    "fig, ax = plt.subplots()\n",
    "\n",
    "avg_price_line = ax.plot(x,y, label='Price', color = \"green\")\n",
    "mean_line = ax.plot(x,y_mean, label='Mean', linestyle='--')\n",
    "legend = ax.legend(loc='upper left')\n",
    "\n",
    "#Set Month Names\n",
    "\n",
    "months = ['Jan', 'Feb', 'Mar', 'Apr', 'May', 'Jun',\n",
    "        'Jul', 'Aug', 'Sep', 'Oct', 'Nov', 'Dec']\n",
    "\n",
    "plt.title(label=\"BR Houses 2016\", loc=\"center\")\n",
    "plt.xticks(x)\n",
    "ax.set_xticklabels(months)\n",
    "plt.show()"
   ]
  },
  {
   "cell_type": "code",
   "execution_count": 17,
   "metadata": {},
   "outputs": [
    {
     "data": {
      "text/plain": [
       "5715.22"
      ]
     },
     "execution_count": 17,
     "metadata": {},
     "output_type": "execute_result"
    }
   ],
   "source": [
    "y_mean[0]"
   ]
  },
  {
   "cell_type": "markdown",
   "metadata": {},
   "source": [
    "## 2015 Average Selling Price Fluctuation"
   ]
  },
  {
   "cell_type": "code",
   "execution_count": 18,
   "metadata": {},
   "outputs": [],
   "source": [
    "def annual_avg_price_15(total):\n",
    "    apt_yr = []\n",
    "    st_yr = []\n",
    "    hs_yr = []\n",
    "    \n",
    "    for i in range(12):\n",
    "        if(i < 9):\n",
    "            df = pd.read_csv(\"C:/Users/Vince Misalucha/Downloads/sell_150\" + str(i+1) + \".csv\")\n",
    "        else:\n",
    "            df = pd.read_csv(\"C:/Users/Vince Misalucha/Downloads/sell_15\" + str(i+1) + \".csv\")\n",
    "        \n",
    "        df['price_per_sqm'] = df['price']/df['surface_covered_in_m2']\n",
    "        apt_yr.append(df.groupby('property_type')['price_per_sqm'].mean().round(2)['apartment'])\n",
    "        hs_yr.append(df.groupby('property_type')['price_per_sqm'].mean().round(2)['house'])\n",
    "    \n",
    "    total.append(apt_yr)\n",
    "    total.append(st_yr)\n",
    "    total.append(hs_yr)\n",
    "     \n",
    "    # returns <apt, st, hs>\n",
    "    return total"
   ]
  },
  {
   "cell_type": "code",
   "execution_count": 19,
   "metadata": {},
   "outputs": [
    {
     "data": {
      "text/plain": [
       "[[6344.47,\n",
       "  5719.41,\n",
       "  5880.59,\n",
       "  5350.42,\n",
       "  5762.73,\n",
       "  5648.38,\n",
       "  5629.41,\n",
       "  5316.29,\n",
       "  5411.15,\n",
       "  4958.23,\n",
       "  4763.74,\n",
       "  4652.49],\n",
       " [],\n",
       " [3878.64,\n",
       "  4167.37,\n",
       "  5191.28,\n",
       "  6125.47,\n",
       "  4238.17,\n",
       "  4473.01,\n",
       "  6768.76,\n",
       "  6720.78,\n",
       "  6720.78,\n",
       "  6726.35,\n",
       "  5981.1,\n",
       "  5482.37]]"
      ]
     },
     "execution_count": 19,
     "metadata": {},
     "output_type": "execute_result"
    }
   ],
   "source": [
    "annual_avg_pricing_15 = []\n",
    "\n",
    "annual_avg_pricing_15 = annual_avg_price_15(annual_avg_pricing_15)\n",
    "annual_avg_pricing_15"
   ]
  },
  {
   "cell_type": "code",
   "execution_count": 20,
   "metadata": {},
   "outputs": [
    {
     "data": {
      "image/png": "[encoded data removed]",
      "text/plain": [
       "<Figure size 432x288 with 1 Axes>"
      ]
     },
     "metadata": {
      "needs_background": "light"
     },
     "output_type": "display_data"
    }
   ],
   "source": [
    "#Apartment Price 2015\n",
    "y = annual_avg_pricing_15[0]\n",
    "x = list(range(1,13))\n",
    "y_mean = [round(sum(y)/len(y),2)]*len(y)\n",
    "\n",
    "#Plotting\n",
    "fig, ax = plt.subplots()\n",
    "\n",
    "avg_price_line = ax.plot(x,y, label='Price', color = \"green\")\n",
    "mean_line = ax.plot(x,y_mean, label='Mean', linestyle='--')\n",
    "legend = ax.legend(loc='upper left')\n",
    "\n",
    "#Set Month Names\n",
    "\n",
    "months = ['Jan', 'Feb', 'Mar', 'Apr', 'May', 'Jun',\n",
    "        'Jul', 'Aug', 'Sep', 'Oct', 'Nov', 'Dec']\n",
    "\n",
    "plt.title(label=\"BR Apartments 2015\", loc=\"center\")\n",
    "plt.xticks(x)\n",
    "ax.set_xticklabels(months)\n",
    "plt.show()"
   ]
  },
  {
   "cell_type": "code",
   "execution_count": 21,
   "metadata": {},
   "outputs": [
    {
     "data": {
      "text/plain": [
       "5453.11"
      ]
     },
     "execution_count": 21,
     "metadata": {},
     "output_type": "execute_result"
    }
   ],
   "source": [
    "y_mean[0]"
   ]
  },
  {
   "cell_type": "code",
   "execution_count": 22,
   "metadata": {},
   "outputs": [
    {
     "data": {
      "image/png": "[encoded data removed]",
      "text/plain": [
       "<Figure size 432x288 with 1 Axes>"
      ]
     },
     "metadata": {
      "needs_background": "light"
     },
     "output_type": "display_data"
    }
   ],
   "source": [
    "#Housing Price 2015\n",
    "y = annual_avg_pricing_15[2]\n",
    "x = list(range(1,13))\n",
    "y_mean = [round(sum(y)/len(y),2)]*len(y)\n",
    "\n",
    "#Plotting\n",
    "fig, ax = plt.subplots()\n",
    "\n",
    "avg_price_line = ax.plot(x,y, label='Price', color = \"green\")\n",
    "mean_line = ax.plot(x,y_mean, label='Mean', linestyle='--')\n",
    "legend = ax.legend(loc='upper left')\n",
    "\n",
    "#Set Month Names\n",
    "\n",
    "months = ['Jan', 'Feb', 'Mar', 'Apr', 'May', 'Jun',\n",
    "        'Jul', 'Aug', 'Sep', 'Oct', 'Nov', 'Dec']\n",
    "\n",
    "plt.title(label=\"BR Houses 2015\", loc=\"center\")\n",
    "plt.xticks(x)\n",
    "ax.set_xticklabels(months)\n",
    "plt.show()"
   ]
  },
  {
   "cell_type": "code",
   "execution_count": 23,
   "metadata": {},
   "outputs": [
    {
     "data": {
      "text/plain": [
       "5539.51"
      ]
     },
     "execution_count": 23,
     "metadata": {},
     "output_type": "execute_result"
    }
   ],
   "source": [
    "y_mean[0]"
   ]
  },
  {
   "cell_type": "code",
   "execution_count": 24,
   "metadata": {},
   "outputs": [
    {
     "data": {
      "text/plain": [
       "[6344.47,\n",
       " 5719.41,\n",
       " 5880.59,\n",
       " 5350.42,\n",
       " 5762.73,\n",
       " 5648.38,\n",
       " 5629.41,\n",
       " 5316.29,\n",
       " 5411.15,\n",
       " 4958.23,\n",
       " 4763.74,\n",
       " 4652.49,\n",
       " 4671.49,\n",
       " 4711.36,\n",
       " 5312.38,\n",
       " 5688.51,\n",
       " 6153.87,\n",
       " 6109.82,\n",
       " 7014.42,\n",
       " 7022.41,\n",
       " 6962.35,\n",
       " 7323.47,\n",
       " 6952.24,\n",
       " 9036.07,\n",
       " 9682.2,\n",
       " 8791.33,\n",
       " 10200.09,\n",
       " 11328.19,\n",
       " 11668.45,\n",
       " 11832.13,\n",
       " 11077.6,\n",
       " 11572.93,\n",
       " 11338.58,\n",
       " 11545.39,\n",
       " 11717.1,\n",
       " 11880.48]"
      ]
     },
     "execution_count": 24,
     "metadata": {},
     "output_type": "execute_result"
    }
   ],
   "source": [
    "#Apartment Overall Fluctuation\n",
    "overall_apt = annual_avg_pricing_15[0] + annual_avg_pricing_16[0] + annual_avg_pricing[0]\n",
    "overall_apt"
   ]
  },
  {
   "cell_type": "code",
   "execution_count": 25,
   "metadata": {},
   "outputs": [
    {
     "data": {
      "text/plain": [
       "[3878.64,\n",
       " 4167.37,\n",
       " 5191.28,\n",
       " 6125.47,\n",
       " 4238.17,\n",
       " 4473.01,\n",
       " 6768.76,\n",
       " 6720.78,\n",
       " 6720.78,\n",
       " 6726.35,\n",
       " 5981.1,\n",
       " 5482.37,\n",
       " 5702.69,\n",
       " 7076.68,\n",
       " 6531.54,\n",
       " 7029.5,\n",
       " 6962.12,\n",
       " 4524.63,\n",
       " 5117.74,\n",
       " 5156.48,\n",
       " 5005.41,\n",
       " 5033.5,\n",
       " 5167.2,\n",
       " 5275.13,\n",
       " 5838.78,\n",
       " 5944.44,\n",
       " 6182.23,\n",
       " 6792.17,\n",
       " 7117.41,\n",
       " 7345.84,\n",
       " 7231.52,\n",
       " 7093.14,\n",
       " 6655.04,\n",
       " 6676.45,\n",
       " 6842.37,\n",
       " 6898.88]"
      ]
     },
     "execution_count": 25,
     "metadata": {},
     "output_type": "execute_result"
    }
   ],
   "source": [
    "#Housing Overall Fluctuation\n",
    "overall_house = annual_avg_pricing_15[2] + annual_avg_pricing_16[2] + annual_avg_pricing[2]\n",
    "overall_house"
   ]
  },
  {
   "cell_type": "code",
   "execution_count": 26,
   "metadata": {},
   "outputs": [
    {
     "data": {
      "image/png": "[encoded data removed]",
      "text/plain": [
       "<Figure size 432x288 with 1 Axes>"
      ]
     },
     "metadata": {
      "needs_background": "light"
     },
     "output_type": "display_data"
    }
   ],
   "source": [
    "#Apartment Price 2015 - 2017\n",
    "y = overall_apt\n",
    "x = list(range(1,37))\n",
    "y_mean = [round(sum(y)/len(y),2)]*len(y)\n",
    "\n",
    "#Plotting\n",
    "fig, ax = plt.subplots()\n",
    "\n",
    "avg_price_line = ax.plot(x,y, label='Price', color = \"green\")\n",
    "mean_line = ax.plot(x,y_mean, label='Mean', linestyle='--')\n",
    "legend = ax.legend(loc='upper left')\n",
    "\n",
    "plt.title(label=\"BR Apartments 2015 - 2017\", loc=\"center\")\n",
    "plt.show()"
   ]
  },
  {
   "cell_type": "code",
   "execution_count": 27,
   "metadata": {},
   "outputs": [
    {
     "data": {
      "image/png": "[encoded data removed]",
      "text/plain": [
       "<Figure size 432x288 with 1 Axes>"
      ]
     },
     "metadata": {
      "needs_background": "light"
     },
     "output_type": "display_data"
    }
   ],
   "source": [
    "#Apartment Price 2015 - 2017\n",
    "y = overall_house\n",
    "x = list(range(1,37))\n",
    "y_mean = [round(sum(y)/len(y),2)]*len(y)\n",
    "\n",
    "#Plotting\n",
    "fig, ax = plt.subplots()\n",
    "\n",
    "avg_price_line = ax.plot(x,y, label='Price', color = \"green\")\n",
    "mean_line = ax.plot(x,y_mean, label='Mean', linestyle='--')\n",
    "legend = ax.legend(loc='upper left')\n",
    "\n",
    "plt.title(label=\"BR Apartments 2015 - 2017\", loc=\"center\")\n",
    "plt.show()"
   ]
  },
  {
   "cell_type": "code",
   "execution_count": 49,
   "metadata": {},
   "outputs": [],
   "source": [
    "apt_yearly = []\n",
    "apt_yearly.append(annual_avg_pricing_15[0])\n",
    "apt_yearly.append(annual_avg_pricing_16[0])\n",
    "apt_yearly.append(annual_avg_pricing[0])\n",
    "\n",
    "house_yearly = []\n",
    "house_yearly.append(annual_avg_pricing_15[2])\n",
    "house_yearly.append(annual_avg_pricing_16[2])\n",
    "house_yearly.append(annual_avg_pricing[2])"
   ]
  },
  {
   "cell_type": "code",
   "execution_count": 50,
   "metadata": {},
   "outputs": [],
   "source": [
    "def comp_annual_growth_rate(df):\n",
    "    \n",
    "    bv = df[0][0]\n",
    "    ev = df[-1][-1]\n",
    "        \n",
    "    cagr = (ev/bv)**(1/len(df)) - 1\n",
    "    \n",
    "    return round(cagr*100, 2)"
   ]
  },
  {
   "cell_type": "code",
   "execution_count": 51,
   "metadata": {},
   "outputs": [
    {
     "data": {
      "text/plain": [
       "23.26"
      ]
     },
     "execution_count": 51,
     "metadata": {},
     "output_type": "execute_result"
    }
   ],
   "source": [
    "comp_annual_growth_rate(apt_yearly)"
   ]
  },
  {
   "cell_type": "code",
   "execution_count": 52,
   "metadata": {},
   "outputs": [
    {
     "data": {
      "text/plain": [
       "21.16"
      ]
     },
     "execution_count": 52,
     "metadata": {},
     "output_type": "execute_result"
    }
   ],
   "source": [
    "comp_annual_growth_rate(house_yearly)"
   ]
  },
  {
   "cell_type": "markdown",
   "metadata": {},
   "source": [
    "SELECT id, operation, property_type, place_name, state_name, surface_covered_in_m2, floor, rooms, price  \n",
    "FROM `properati-data-public.properties_br.properties_sell_201712`\n",
    "WHERE\n",
    "id IS NOT NULL AND\n",
    "property_type IS NOT NULL AND\n",
    "place_name IS NOT NULL AND\n",
    "state_name IS NOT NULL AND\n",
    "surface_covered_in_m2 IS NOT NULL AND\n",
    "floor IS NOT NULL AND\n",
    "rooms IS NOT NULL AND\n",
    "price IS NOT NULL AND\n",
    "price != 0"
   ]
  },
  {
   "cell_type": "code",
   "execution_count": null,
   "metadata": {},
   "outputs": [],
   "source": []
  }
 ],
 "metadata": {
  "kernelspec": {
   "display_name": "Python 3",
   "language": "python",
   "name": "python3"
  },
  "language_info": {
   "codemirror_mode": {
    "name": "ipython",
    "version": 3
   },
   "file_extension": ".py",
   "mimetype": "text/x-python",
   "name": "python",
   "nbconvert_exporter": "python",
   "pygments_lexer": "ipython3",
   "version": "3.7.6"
  }
 },
 "nbformat": 4,
 "nbformat_minor": 4
}
